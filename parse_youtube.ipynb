{
 "cells": [
  {
   "cell_type": "code",
   "execution_count": 1,
   "metadata": {},
   "outputs": [],
   "source": [
    "from youtube_transcript_api import YouTubeTranscriptApi\n",
    "from langchain.text_splitter import RecursiveCharacterTextSplitter\n",
    "from langchain_core.prompts import ChatPromptTemplate\n",
    "from langchain_ollama.llms import OllamaLLM\n",
    "from langchain.tools import Tool\n",
    "from langchain.agents import initialize_agent, AgentType"
   ]
  },
  {
   "cell_type": "code",
   "execution_count": 4,
   "metadata": {},
   "outputs": [],
   "source": [
    "def parse_url(url: str) -> str:\n",
    "    \"\"\"\n",
    "    Extract video ID from URL.\n",
    "\n",
    "    Args: \n",
    "        url(str): youtube video url\n",
    "\n",
    "    Returns:\n",
    "        Youtube video's video ID\n",
    "    \n",
    "    \"\"\"\n",
    "    if \"=\" in url:\n",
    "        return url.split(\"=\")[-1]\n",
    "\n",
    "    return url\n",
    "\n",
    "\n",
    "def get_text_from_video(url: str) -> str:\n",
    "    \"\"\"\n",
    "    Get transcript text from YouTube video.\n",
    "\n",
    "    Args:\n",
    "        url(str): youtube video url\n",
    "\n",
    "    Returns:\n",
    "        Youtube video's transcripted text\n",
    "    \n",
    "    \"\"\"\n",
    "    video_id = parse_url(url)\n",
    "    \n",
    "    try:\n",
    "        transcript = YouTubeTranscriptApi.get_transcript(video_id)\n",
    "        transcript_text = \" \".join([entry[\"text\"] for entry in transcript])\n",
    "        transcript_text = transcript_text.replace(\"\\n\", \" \").replace(\"'\", \"\")\n",
    "        return transcript_text\n",
    "    except Exception as e:\n",
    "        return f\"Failed to retrieve transcript: {str(e)}\""
   ]
  },
  {
   "cell_type": "code",
   "execution_count": 6,
   "metadata": {},
   "outputs": [],
   "source": [
    "dimon = get_text_from_video(\"https://www.youtube.com/watch?v=4-PXch3ZR0Y\")"
   ]
  },
  {
   "cell_type": "code",
   "execution_count": 7,
   "metadata": {},
   "outputs": [],
   "source": [
    "with open('dimon.txt',\"w\") as f:\n",
    "    f.write(dimon)"
   ]
  },
  {
   "cell_type": "code",
   "execution_count": 11,
   "metadata": {},
   "outputs": [
    {
     "data": {
      "text/plain": [
       "4282"
      ]
     },
     "execution_count": 11,
     "metadata": {},
     "output_type": "execute_result"
    }
   ],
   "source": [
    "len(dimon)"
   ]
  },
  {
   "cell_type": "code",
   "execution_count": 3,
   "metadata": {},
   "outputs": [],
   "source": [
    "#load text from file\n",
    "with open(\"From Surviving to Thriving: My Midlife Reset.txt\", \"r\") as f:\n",
    "    transcript = f.read()"
   ]
  },
  {
   "cell_type": "code",
   "execution_count": 4,
   "metadata": {},
   "outputs": [],
   "source": [
    "def create_chunks(transcript_text: str) -> list:\n",
    "    \"\"\"\n",
    "    Split transcript text into processable chunks.\n",
    "\n",
    "    Args:\n",
    "        transcript_text (str): Youtube video's transcripted text\n",
    "\n",
    "    Returns:\n",
    "        processable chunks\n",
    "    \n",
    "    \"\"\"\n",
    "    text_splitter = RecursiveCharacterTextSplitter(chunk_size=1000, chunk_overlap=100)\n",
    "    chunks = text_splitter.split_text(transcript_text)\n",
    "    return chunks"
   ]
  },
  {
   "cell_type": "code",
   "execution_count": 5,
   "metadata": {},
   "outputs": [],
   "source": [
    "chunks = create_chunks(transcript)"
   ]
  },
  {
   "cell_type": "code",
   "execution_count": 6,
   "metadata": {},
   "outputs": [
    {
     "data": {
      "text/plain": [
       "[\"Hello YouTube friends and as you will notice this video is looking a little bit different for me and I'm about to embark on something new and if I'm being honest I'm actually a little bit scared about it but let me explain. Life seems to have this way of throwing curveballs, sometimes gentle ones, sometimes the kind that kind of just knock the wind right out of you. Since turning 50 I've faced some of the hardest moments of my life. Going through a divorce, navigating life on my own as a single parent, selling the home I thought I'd grow old in, buying and renovating a new one for me and my two sons and basically doing everything pretty much on my own. Now I'm not saying this is a woe is me, I'm just trying to set the scene. Oh and somewhere in the middle of all of that I did something I swore I wouldn't do, I adopted a puppy and let me tell you he's been a handful but I wouldn't trade him for the world. But recently I felt something shift, maybe it was all the unexpected twists and\",\n",
       " \"him for the world. But recently I felt something shift, maybe it was all the unexpected twists and turns life threw my way but suddenly I knew one thing for sure, I wasn't interested in just getting by anymore. I wanted to see what happened if I stopped playing small and started stepping fully into my life. You see over the past few years I've kind of felt like I've been in survival mode and the problem with that is living in survival mode keeps you stuck in a cycle of stress and scarcity where every decision feels reactive and exhausting, leaving little room for joy, growth or the freedom to truly be happy. So here's where I'm at now, in 2025 I'm making a conscious decision to not just survive but to thrive. I saw a quote out there describing this year as 2020 Thrive and that sort of really spoke to me and it made me start to rethink where I want to focus my energy and attention. So this is a long way of saying that I'm starting a vlog, I don't know how often I will create vlogs like\",\n",
       " \"is a long way of saying that I'm starting a vlog, I don't know how often I will create vlogs like this but I'm hoping for at least one a month and this vlog is my way of sort of showing up for myself in every way possible. It's about discovering what it means to live fully, to stay healthy, to embrace adventure and to let go of the idea that age defines what's possible. It's about choosing joy even in the messiness of life. I want to look back on this time in my life and feel like I gave it everything I had, whether that be emotionally, physically, spiritually, just every way. And the reason that I wanted to start vlogging is because I know that there are plenty of you out there that are potentially going through some of the same life challenges, whether they be parenting or finding yourself single again at 50 or financial pressures, whatever they may be. I felt like I wanted to share some of my personal moments and hopefully you can relate to them and we can work through them\",\n",
       " \"share some of my personal moments and hopefully you can relate to them and we can work through them together. So many women reach this point in life and wonder what now, whether you're navigating life after a breakup, starting over, dealing with loss or just trying to figure out how to make the most of the years ahead. So beyond sharing my personal journey, I want this vlog to be a place where I can share the things that help me feel my very best inside and out. That means things like easy, healthy foods from some of my favourite recipes, the things I do for my own mental health, like spending time in nature and heading to my local beach and taking my dogs on long walks, just some of the simple things. I also want to share lessons I've learned from parenting, especially as my kids have grown into young adults. There have been so many lessons that I have learned along the way. Also there's things like navigating menopause, aging with confidence and basically just embracing the changes\",\n",
       " \"things like navigating menopause, aging with confidence and basically just embracing the changes that come with this stage of life. For months I've been filming little moments of my life and things like travelling alone to visit my son in the US, making healthy meals, time spent at the gym, embracing small joys in my everyday life, but I never shared any of it. I don't know why, I suppose I kept thinking it wasn't good enough or it wasn't polished enough or maybe just too ordinary, but then it hit me, maybe that's the beauty of it. Maybe the real magic is in these everyday moments, the little things we overlook, the lessons hidden in the ordinary and maybe just maybe that's exactly what someone else needs to see to feel a little less alone on their journey. I want to be the voice that says we don't have to go through any of this hard stuff alone, whether it's navigating life after a breakup, starting over, dealing with loss or simply trying to work out how to make the most of this\",\n",
       " \"breakup, starting over, dealing with loss or simply trying to work out how to make the most of this next chapter of our lives. So even though I feel like I've gone through a lot of the hard stuff alone, I want you to feel like you're not alone too. And also I wanted to share some of New Zealand. I live in one of the most beautiful countries in the world. And as you can see and probably hear from the background, it's summer here at the moment. And yeah, you don't get to see a lot of the other side of my life and where I live. So I also want to share more of New Zealand in my vlogs as well. So if you're looking to thrive and live fully through this stage of life with all of its challenges and blessings, then that's great to hear. This is just the beginning and I'm excited and nervous to share more of my story and of course everything I discover along the way and no more playing small. Not that I've ever really played small, but I have spent time kind of waiting for the perfect time to\",\n",
       " \"that I've ever really played small, but I have spent time kind of waiting for the perfect time to do things. And now is that time. So let's start thriving together.\"]"
      ]
     },
     "execution_count": 6,
     "metadata": {},
     "output_type": "execute_result"
    }
   ],
   "source": [
    "chunks"
   ]
  },
  {
   "cell_type": "code",
   "execution_count": 7,
   "metadata": {},
   "outputs": [
    {
     "data": {
      "text/plain": [
       "\"Hello YouTube friends and as you will notice this video is looking a little bit different for me and I'm about to embark on something new and if I'm being honest I'm actually a little bit scared about it but let me explain. Life seems to have this way of throwing curveballs, sometimes gentle ones, sometimes the kind that kind of just knock the wind right out of you. Since turning 50 I've faced some of the hardest moments of my life. Going through a divorce, navigating life on my own as a single parent, selling the home I thought I'd grow old in, buying and renovating a new one for me and my two sons and basically doing everything pretty much on my own. Now I'm not saying this is a woe is me, I'm just trying to set the scene. Oh and somewhere in the middle of all of that I did something I swore I wouldn't do, I adopted a puppy and let me tell you he's been a handful but I wouldn't trade him for the world. But recently I felt something shift, maybe it was all the unexpected twists and\""
      ]
     },
     "execution_count": 7,
     "metadata": {},
     "output_type": "execute_result"
    }
   ],
   "source": [
    "chunks[0]"
   ]
  },
  {
   "cell_type": "code",
   "execution_count": 8,
   "metadata": {},
   "outputs": [],
   "source": [
    "def get_summary(chunks: list) -> str:\n",
    "    \"\"\"\n",
    "    Summarize text chunks and create a single summary.\n",
    "    \n",
    "    Args:\n",
    "        chunks (list): processable chunks of transcriptted text\n",
    "\n",
    "    Returns:\n",
    "        A single summary for youtube video\n",
    "    \"\"\"\n",
    "    llm = OllamaLLM(model=\"llama3\")\n",
    "\n",
    "    template = \"\"\"Text: {text}\n",
    "    Goal: Summarize given text.\n",
    "    Answer: \"\"\"\n",
    "\n",
    "    prompt = ChatPromptTemplate.from_template(template)\n",
    "    chain = prompt | llm\n",
    "\n",
    "    summaries = [chain.invoke({\"text\": chunk}) for chunk in chunks]\n",
    "    \n",
    "    combined_summary = \" \".join(summaries)\n",
    "    \n",
    "    # Create final summary\n",
    "    final_summary_prompt = ChatPromptTemplate.from_template(\n",
    "        \"Multiple summaries: {summaries}\\nGoal: Create a coherent single summary.\\nAnswer: \"\n",
    "    )\n",
    "    final_summary_chain = final_summary_prompt | llm\n",
    "    final_summary = final_summary_chain.invoke({\"summaries\": combined_summary})\n",
    "    \n",
    "    return final_summary"
   ]
  },
  {
   "cell_type": "code",
   "execution_count": 9,
   "metadata": {},
   "outputs": [],
   "source": [
    "ds_summ = get_summary(chunks)"
   ]
  },
  {
   "cell_type": "code",
   "execution_count": 10,
   "metadata": {},
   "outputs": [
    {
     "data": {
      "text/plain": [
       "\"Here's a concise summary:\\n\\nA 50-year-old individual embarks on a new journey, transitioning from mere survival to thriving. After facing various life challenges, including divorce, single parenthood, and significant life changes, they've realized the importance of living intentionally. To share their experiences and connect with others who may be facing similar struggles, they're starting a vlog that documents their self-discovery, adventure, and growth. The speaker aims to inspire others by showcasing everyday moments, sharing lessons learned from parenting, and exploring healthy living practices. By doing so, they hope to demonstrate that even small moments can hold beauty and significance, and that it's never too late to start making positive changes in life.\""
      ]
     },
     "execution_count": 10,
     "metadata": {},
     "output_type": "execute_result"
    }
   ],
   "source": [
    "ds_summ"
   ]
  },
  {
   "cell_type": "code",
   "execution_count": 11,
   "metadata": {},
   "outputs": [],
   "source": [
    "with open(\"from_surviving.txt\", \"w\") as f:\n",
    "    f.write(ds_summ)"
   ]
  },
  {
   "cell_type": "code",
   "execution_count": 12,
   "metadata": {},
   "outputs": [],
   "source": [
    "def extract_topics(chunks:list) -> list:\n",
    "    \"\"\"\n",
    "    Extract main topics from text chunks.\n",
    "    \n",
    "    Args:\n",
    "        chunks (list): processable chunks of transcriptted text\n",
    "    \n",
    "    Returns:\n",
    "        Main topic list\n",
    "    \"\"\"\n",
    "    llm = OllamaLLM(model=\"llama3\")\n",
    "\n",
    "    template = \"\"\"Text: {text}\n",
    "    Goal: Extract main topics from the given text.\n",
    "    Answer: List the key topics separated by commas.\"\"\"\n",
    "\n",
    "    prompt = ChatPromptTemplate.from_template(template)\n",
    "    chain = prompt | llm\n",
    "\n",
    "    topics_list = [chain.invoke({\"text\": chunk}) for chunk in chunks]\n",
    "\n",
    "    # Combine topics from different chunks\n",
    "    all_topics = set()\n",
    "    for topics in topics_list:\n",
    "        # Split comma-separated topics and clean whitespace\n",
    "        topic_items = [t.strip() for t in topics.split(\",\")]\n",
    "        all_topics.update(topic_items)\n",
    "\n",
    "    # Remove empty elements\n",
    "    all_topics = {topic for topic in all_topics if topic}\n",
    "    \n",
    "    return list(all_topics)"
   ]
  },
  {
   "cell_type": "code",
   "execution_count": 13,
   "metadata": {},
   "outputs": [],
   "source": [
    "tops = extract_topics(chunks)"
   ]
  },
  {
   "cell_type": "code",
   "execution_count": 14,
   "metadata": {},
   "outputs": [
    {
     "data": {
      "text/plain": [
       "63"
      ]
     },
     "execution_count": 14,
     "metadata": {},
     "output_type": "execute_result"
    }
   ],
   "source": [
    "len(tops)"
   ]
  },
  {
   "cell_type": "code",
   "execution_count": 15,
   "metadata": {},
   "outputs": [],
   "source": [
    "def extract_quotes(chunks:list) -> list:\n",
    "    \"\"\"\n",
    "    Extract important quotes from text chunks.\n",
    "    \n",
    "    Args:\n",
    "        chunks (list): processable chunks of transcriptted text\n",
    "    \n",
    "    Returns:\n",
    "        important quotes list\n",
    "    \"\"\"\n",
    "    llm = OllamaLLM(model=\"llama3\")\n",
    "    template = \"\"\"Text: {text}\n",
    "    Goal: Extract the most important quote from this text.\n",
    "    Answer: Provide the quote as plain text.\"\"\"\n",
    "\n",
    "    prompt = ChatPromptTemplate.from_template(template)\n",
    "    chain = prompt | llm\n",
    "\n",
    "    quotes = [chain.invoke({\"text\": chunk}) for chunk in chunks]\n",
    "    \n",
    "    # Filter duplicate or empty quotes\n",
    "    unique_quotes = []\n",
    "    seen_quotes = set()\n",
    "    \n",
    "    for quote in quotes:\n",
    "        # Normalize quote (clean whitespace and compare lowercase)\n",
    "        normalized = quote.strip().lower()\n",
    "        if normalized and normalized not in seen_quotes:\n",
    "            unique_quotes.append(quote.strip())\n",
    "            seen_quotes.add(normalized)\n",
    "    \n",
    "    return unique_quotes"
   ]
  },
  {
   "cell_type": "code",
   "execution_count": 16,
   "metadata": {},
   "outputs": [],
   "source": [
    "quotes = extract_quotes(chunks)"
   ]
  },
  {
   "cell_type": "code",
   "execution_count": 17,
   "metadata": {},
   "outputs": [
    {
     "data": {
      "text/plain": [
       "['\"I\\'m not saying this is a woe is me, I\\'m just trying to set the scene.\"',\n",
       " '\"In 2025 I\\'m making a conscious decision to not just survive but to thrive.\"',\n",
       " '\"I want to look back on this time in my life and feel like I gave it everything I had, whether that be emotionally, physically, spiritually, just every way.\"',\n",
       " '\"So many women reach this point in life and wonder what now...\"\\n\\n(This is the most important quote mentioned in the text, which highlights the theme of the vlog about navigating different stages of life and finding a sense of purpose.)',\n",
       " 'Here is the most important quote from the text:\\n\\n\"Maybe the real magic is in these everyday moments, the little things we overlook, the lessons hidden in the ordinary...\"\\n\\nLet me know if you need anything else!',\n",
       " '\"Not that I\\'ve ever really played small, but I have spent time kind of waiting for the perfect time to...\"',\n",
       " '\"So let\\'s start thriving together.\"']"
      ]
     },
     "execution_count": 17,
     "metadata": {},
     "output_type": "execute_result"
    }
   ],
   "source": [
    "quotes"
   ]
  },
  {
   "cell_type": "code",
   "execution_count": null,
   "metadata": {},
   "outputs": [],
   "source": []
  },
  {
   "cell_type": "code",
   "execution_count": null,
   "metadata": {},
   "outputs": [],
   "source": []
  },
  {
   "cell_type": "code",
   "execution_count": null,
   "metadata": {},
   "outputs": [],
   "source": []
  },
  {
   "cell_type": "code",
   "execution_count": null,
   "metadata": {},
   "outputs": [],
   "source": []
  },
  {
   "cell_type": "code",
   "execution_count": null,
   "metadata": {},
   "outputs": [],
   "source": []
  },
  {
   "cell_type": "code",
   "execution_count": null,
   "metadata": {},
   "outputs": [],
   "source": []
  }
 ],
 "metadata": {
  "kernelspec": {
   "display_name": "ytubetrans",
   "language": "python",
   "name": "python3"
  },
  "language_info": {
   "codemirror_mode": {
    "name": "ipython",
    "version": 3
   },
   "file_extension": ".py",
   "mimetype": "text/x-python",
   "name": "python",
   "nbconvert_exporter": "python",
   "pygments_lexer": "ipython3",
   "version": "3.12.9"
  }
 },
 "nbformat": 4,
 "nbformat_minor": 2
}
