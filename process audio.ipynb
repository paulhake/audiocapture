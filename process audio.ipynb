{
 "cells": [
  {
   "cell_type": "code",
   "execution_count": 1,
   "metadata": {},
   "outputs": [
    {
     "name": "stderr",
     "output_type": "stream",
     "text": [
      "ffmpeg version 7.1 Copyright (c) 2000-2024 the FFmpeg developers\n",
      "  built with Apple clang version 16.0.0 (clang-1600.0.26.4)\n",
      "  configuration: --prefix=/usr/local/Cellar/ffmpeg/7.1_4 --enable-shared --enable-pthreads --enable-version3 --cc=clang --host-cflags= --host-ldflags='-Wl,-ld_classic' --enable-ffplay --enable-gnutls --enable-gpl --enable-libaom --enable-libaribb24 --enable-libbluray --enable-libdav1d --enable-libharfbuzz --enable-libjxl --enable-libmp3lame --enable-libopus --enable-librav1e --enable-librist --enable-librubberband --enable-libsnappy --enable-libsrt --enable-libssh --enable-libsvtav1 --enable-libtesseract --enable-libtheora --enable-libvidstab --enable-libvmaf --enable-libvorbis --enable-libvpx --enable-libwebp --enable-libx264 --enable-libx265 --enable-libxml2 --enable-libxvid --enable-lzma --enable-libfontconfig --enable-libfreetype --enable-frei0r --enable-libass --enable-libopencore-amrnb --enable-libopencore-amrwb --enable-libopenjpeg --enable-libspeex --enable-libsoxr --enable-libzmq --enable-libzimg --disable-libjack --disable-indev=jack --enable-videotoolbox --enable-audiotoolbox\n",
      "  libavutil      59. 39.100 / 59. 39.100\n",
      "  libavcodec     61. 19.100 / 61. 19.100\n",
      "  libavformat    61.  7.100 / 61.  7.100\n",
      "  libavdevice    61.  3.100 / 61.  3.100\n",
      "  libavfilter    10.  4.100 / 10.  4.100\n",
      "  libswscale      8.  3.100 /  8.  3.100\n",
      "  libswresample   5.  3.100 /  5.  3.100\n",
      "  libpostproc    58.  3.100 / 58.  3.100\n",
      "Input #0, mov,mp4,m4a,3gp,3g2,mj2, from 'avient2024.mp4':\n",
      "  Metadata:\n",
      "    major_brand     : mp42\n",
      "    minor_version   : 1\n",
      "    compatible_brands: isommp41mp42\n",
      "    creation_time   : 2025-02-14T01:43:49.000000Z\n",
      "  Duration: 00:48:15.30, start: 0.000000, bitrate: 60 kb/s\n",
      "  Stream #0:0[0x1](und): Video: h264 (High) (avc1 / 0x31637661), yuv420p(tv, bt709, progressive), 160x90 [SAR 1:1 DAR 16:9], 4 kb/s, 10 fps, 10 tbr, 600 tbn (default)\n",
      "      Metadata:\n",
      "        creation_time   : 2025-02-14T01:43:49.000000Z\n",
      "        handler_name    : Core Media Video\n",
      "        vendor_id       : [0][0][0][0]\n",
      "  Stream #0:1[0x2](und): Audio: aac (LC) (mp4a / 0x6134706D), 44100 Hz, stereo, fltp, 54 kb/s (default)\n",
      "      Metadata:\n",
      "        creation_time   : 2025-02-14T01:43:49.000000Z\n",
      "        handler_name    : Core Media Audio\n",
      "        vendor_id       : [0][0][0][0]\n",
      "Stream mapping:\n",
      "  Stream #0:1 -> #0:0 (aac (native) -> pcm_s16le (native))\n",
      "Press [q] to stop, [?] for help\n",
      "Output #0, wav, to 'avient2024.wav':\n",
      "  Metadata:\n",
      "    major_brand     : mp42\n",
      "    minor_version   : 1\n",
      "    compatible_brands: isommp41mp42\n",
      "    ISFT            : Lavf61.7.100\n",
      "  Stream #0:0(und): Audio: pcm_s16le ([1][0][0][0] / 0x0001), 16000 Hz, mono, s16, 256 kb/s (default)\n",
      "      Metadata:\n",
      "        creation_time   : 2025-02-14T01:43:49.000000Z\n",
      "        handler_name    : Core Media Audio\n",
      "        vendor_id       : [0][0][0][0]\n",
      "        encoder         : Lavc61.19.100 pcm_s16le\n",
      "[out#0/wav @ 0x7fb6b6221800] video:0KiB audio:90479KiB subtitle:0KiB other streams:0KiB global headers:0KiB muxing overhead: 0.000084%\n",
      "size=   90479KiB time=00:48:15.31 bitrate= 256.0kbits/s speed=1.05e+03x    \n"
     ]
    },
    {
     "data": {
      "text/plain": [
       "CompletedProcess(args=['ffmpeg', '-i', 'avient2024.mp4', '-vn', '-acodec', 'pcm_s16le', '-ar', '16000', '-ac', '1', 'avient2024.wav'], returncode=0)"
      ]
     },
     "execution_count": 1,
     "metadata": {},
     "output_type": "execute_result"
    }
   ],
   "source": [
    "import subprocess\n",
    "\n",
    "input_file = \"avient2024.mp4\"\n",
    "output_file = \"avient2024.wav\"\n",
    "\n",
    "subprocess.run([\"ffmpeg\", \"-i\", input_file, \"-vn\", \"-acodec\", \"pcm_s16le\", \"-ar\", \"16000\", \"-ac\", \"1\", output_file])\n"
   ]
  },
  {
   "cell_type": "code",
   "execution_count": 1,
   "metadata": {},
   "outputs": [
    {
     "name": "stdout",
     "output_type": "stream",
     "text": [
      "Whisper loaded successfully!\n"
     ]
    }
   ],
   "source": [
    "import whisper\n",
    "model = whisper.load_model(\"medium\")\n",
    "print(\"Whisper loaded successfully!\")\n"
   ]
  },
  {
   "cell_type": "code",
   "execution_count": null,
   "metadata": {},
   "outputs": [
    {
     "name": "stderr",
     "output_type": "stream",
     "text": [
      "/Users/paulhake/opt/anaconda3/envs/audiocap/lib/python3.11/site-packages/whisper/transcribe.py:126: UserWarning: FP16 is not supported on CPU; using FP32 instead\n",
      "  warnings.warn(\"FP16 is not supported on CPU; using FP32 instead\")\n"
     ]
    },
    {
     "name": "stdout",
     "output_type": "stream",
     "text": [
      " Hello YouTube friends and as you will notice this video is looking a little bit different for me and I'm about to embark on something new and if I'm being honest I'm actually a little bit scared about it but let me explain. Life seems to have this way of throwing curveballs, sometimes gentle ones, sometimes the kind that kind of just knock the wind right out of you. Since turning 50 I've faced some of the hardest moments of my life. Going through a divorce, navigating life on my own as a single parent, selling the home I thought I'd grow old in, buying and renovating a new one for me and my two sons and basically doing everything pretty much on my own. Now I'm not saying this is a woe is me, I'm just trying to set the scene. Oh and somewhere in the middle of all of that I did something I swore I wouldn't do, I adopted a puppy and let me tell you he's been a handful but I wouldn't trade him for the world. But recently I felt something shift, maybe it was all the unexpected twists and turns life threw my way but suddenly I knew one thing for sure, I wasn't interested in just getting by anymore. I wanted to see what happened if I stopped playing small and started stepping fully into my life. You see over the past few years I've kind of felt like I've been in survival mode and the problem with that is living in survival mode keeps you stuck in a cycle of stress and scarcity where every decision feels reactive and exhausting, leaving little room for joy, growth or the freedom to truly be happy. So here's where I'm at now, in 2025 I'm making a conscious decision to not just survive but to thrive. I saw a quote out there describing this year as 2020 Thrive and that sort of really spoke to me and it made me start to rethink where I want to focus my energy and attention. So this is a long way of saying that I'm starting a vlog, I don't know how often I will create vlogs like this but I'm hoping for at least one a month and this vlog is my way of sort of showing up for myself in every way possible. It's about discovering what it means to live fully, to stay healthy, to embrace adventure and to let go of the idea that age defines what's possible. It's about choosing joy even in the messiness of life. I want to look back on this time in my life and feel like I gave it everything I had, whether that be emotionally, physically, spiritually, just every way. And the reason that I wanted to start vlogging is because I know that there are plenty of you out there that are potentially going through some of the same life challenges, whether they be parenting or finding yourself single again at 50 or financial pressures, whatever they may be. I felt like I wanted to share some of my personal moments and hopefully you can relate to them and we can work through them together. So many women reach this point in life and wonder what now, whether you're navigating life after a breakup, starting over, dealing with loss or just trying to figure out how to make the most of the years ahead. So beyond sharing my personal journey, I want this vlog to be a place where I can share the things that help me feel my very best inside and out. That means things like easy, healthy foods from some of my favourite recipes, the things I do for my own mental health, like spending time in nature and heading to my local beach and taking my dogs on long walks, just some of the simple things. I also want to share lessons I've learned from parenting, especially as my kids have grown into young adults. There have been so many lessons that I have learned along the way. Also there's things like navigating menopause, aging with confidence and basically just embracing the changes that come with this stage of life. For months I've been filming little moments of my life and things like travelling alone to visit my son in the US, making healthy meals, time spent at the gym, embracing small joys in my everyday life, but I never shared any of it. I don't know why, I suppose I kept thinking it wasn't good enough or it wasn't polished enough or maybe just too ordinary, but then it hit me, maybe that's the beauty of it. Maybe the real magic is in these everyday moments, the little things we overlook, the lessons hidden in the ordinary and maybe just maybe that's exactly what someone else needs to see to feel a little less alone on their journey. I want to be the voice that says we don't have to go through any of this hard stuff alone, whether it's navigating life after a breakup, starting over, dealing with loss or simply trying to work out how to make the most of this next chapter of our lives. So even though I feel like I've gone through a lot of the hard stuff alone, I want you to feel like you're not alone too. And also I wanted to share some of New Zealand. I live in one of the most beautiful countries in the world. And as you can see and probably hear from the background, it's summer here at the moment. And yeah, you don't get to see a lot of the other side of my life and where I live. So I also want to share more of New Zealand in my vlogs as well. So if you're looking to thrive and live fully through this stage of life with all of its challenges and blessings, then that's great to hear. This is just the beginning and I'm excited and nervous to share more of my story and of course everything I discover along the way and no more playing small. Not that I've ever really played small, but I have spent time kind of waiting for the perfect time to do things. And now is that time. So let's start thriving together.\n"
     ]
    }
   ],
   "source": [
    "#import whisper\n",
    "\n",
    "#model = whisper.load_model(\"medium\")  # You can also use 'small' or 'large'\n",
    "result = model.transcribe(\"xgov_team_call.wav\")\n",
    "\n",
    "print(result[\"text\"])  # This prints the full transcript\n"
   ]
  },
  {
   "cell_type": "code",
   "execution_count": 3,
   "metadata": {},
   "outputs": [],
   "source": [
    "with open('From Surviving to Thriving: My Midlife Reset.txt', \"w\") as f:\n",
    "    f.write(result[\"text\"])"
   ]
  },
  {
   "cell_type": "code",
   "execution_count": 4,
   "metadata": {},
   "outputs": [],
   "source": [
    "words = result[\"text\"].split()\n"
   ]
  },
  {
   "cell_type": "code",
   "execution_count": 5,
   "metadata": {},
   "outputs": [
    {
     "data": {
      "text/plain": [
       "1065"
      ]
     },
     "execution_count": 5,
     "metadata": {},
     "output_type": "execute_result"
    }
   ],
   "source": [
    "len(words)"
   ]
  },
  {
   "cell_type": "code",
   "execution_count": null,
   "metadata": {},
   "outputs": [],
   "source": []
  }
 ],
 "metadata": {
  "kernelspec": {
   "display_name": "audiocap",
   "language": "python",
   "name": "python3"
  },
  "language_info": {
   "codemirror_mode": {
    "name": "ipython",
    "version": 3
   },
   "file_extension": ".py",
   "mimetype": "text/x-python",
   "name": "python",
   "nbconvert_exporter": "python",
   "pygments_lexer": "ipython3",
   "version": "3.11.11"
  }
 },
 "nbformat": 4,
 "nbformat_minor": 2
}
